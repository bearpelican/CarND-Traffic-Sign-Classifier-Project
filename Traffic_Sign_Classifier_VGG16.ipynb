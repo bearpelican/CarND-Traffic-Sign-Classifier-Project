{
 "cells": [
  {
   "cell_type": "markdown",
   "metadata": {},
   "source": [
    "# Self-Driving Car Engineer Nanodegree\n",
    "\n",
    "## Deep Learning\n",
    "\n",
    "## Project: Build a Traffic Sign Recognition Classifier\n",
    "\n",
    "In this notebook, a template is provided for you to implement your functionality in stages, which is required to successfully complete this project. If additional code is required that cannot be included in the notebook, be sure that the Python code is successfully imported and included in your submission if necessary. \n",
    "\n",
    "> **Note**: Once you have completed all of the code implementations, you need to finalize your work by exporting the iPython Notebook as an HTML document. Before exporting the notebook to html, all of the code cells need to have been run so that reviewers can see the final implementation and output. You can then export the notebook by using the menu above and navigating to  \\n\",\n",
    "    \"**File -> Download as -> HTML (.html)**. Include the finished document along with this notebook as your submission. \n",
    "\n",
    "In addition to implementing code, there is a writeup to complete. The writeup should be completed in a separate file, which can be either a markdown file or a pdf document. There is a [write up template](https://github.com/udacity/CarND-Traffic-Sign-Classifier-Project/blob/master/writeup_template.md) that can be used to guide the writing process. Completing the code template and writeup template will cover all of the [rubric points](https://review.udacity.com/#!/rubrics/481/view) for this project.\n",
    "\n",
    "The [rubric](https://review.udacity.com/#!/rubrics/481/view) contains \"Stand Out Suggestions\" for enhancing the project beyond the minimum requirements. The stand out suggestions are optional. If you decide to pursue the \"stand out suggestions\", you can include the code in this Ipython notebook and also discuss the results in the writeup file.\n",
    "\n",
    "\n",
    ">**Note:** Code and Markdown cells can be executed using the **Shift + Enter** keyboard shortcut. In addition, Markdown cells can be edited by typically double-clicking the cell to enter edit mode."
   ]
  },
  {
   "cell_type": "markdown",
   "metadata": {},
   "source": [
    "---\n",
    "## Step 0: Load The Data"
   ]
  },
  {
   "cell_type": "code",
   "execution_count": 2,
   "metadata": {
    "collapsed": true
   },
   "outputs": [],
   "source": [
    "# Load pickled data\n",
    "import pickle\n",
    "\n",
    "# TODO: Fill this in based on where you saved the training and testing data\n",
    "data_dir = 'data/'\n",
    "summary_dir = data_dir+'vgg/summary/'\n",
    "training_file = data_dir + 'train.p'\n",
    "validation_file= data_dir + 'valid.p'\n",
    "testing_file = data_dir + 'test.p'\n",
    "\n",
    "with open(training_file, mode='rb') as f:\n",
    "    train = pickle.load(f)\n",
    "with open(validation_file, mode='rb') as f:\n",
    "    valid = pickle.load(f)\n",
    "with open(testing_file, mode='rb') as f:\n",
    "    test = pickle.load(f)\n",
    "    \n",
    "X_train, y_train = train['features'], train['labels']\n",
    "X_valid, y_valid = valid['features'], valid['labels']\n",
    "X_test, y_test = test['features'], test['labels']"
   ]
  },
  {
   "cell_type": "markdown",
   "metadata": {},
   "source": [
    "---\n",
    "\n",
    "## Step 1: Dataset Summary & Exploration\n",
    "\n",
    "The pickled data is a dictionary with 4 key/value pairs:\n",
    "\n",
    "- `'features'` is a 4D array containing raw pixel data of the traffic sign images, (num examples, width, height, channels).\n",
    "- `'labels'` is a 1D array containing the label/class id of the traffic sign. The file `signnames.csv` contains id -> name mappings for each id.\n",
    "- `'sizes'` is a list containing tuples, (width, height) representing the original width and height the image.\n",
    "- `'coords'` is a list containing tuples, (x1, y1, x2, y2) representing coordinates of a bounding box around the sign in the image. **THESE COORDINATES ASSUME THE ORIGINAL IMAGE. THE PICKLED DATA CONTAINS RESIZED VERSIONS (32 by 32) OF THESE IMAGES**\n",
    "\n",
    "Complete the basic data summary below. Use python, numpy and/or pandas methods to calculate the data summary rather than hard coding the results. For example, the [pandas shape method](http://pandas.pydata.org/pandas-docs/stable/generated/pandas.DataFrame.shape.html) might be useful for calculating some of the summary results. "
   ]
  },
  {
   "cell_type": "markdown",
   "metadata": {},
   "source": [
    "### Provide a Basic Summary of the Data Set Using Python, Numpy and/or Pandas"
   ]
  },
  {
   "cell_type": "code",
   "execution_count": 3,
   "metadata": {
    "collapsed": true
   },
   "outputs": [],
   "source": [
    "import numpy as np"
   ]
  },
  {
   "cell_type": "code",
   "execution_count": 4,
   "metadata": {},
   "outputs": [
    {
     "name": "stdout",
     "output_type": "stream",
     "text": [
      "Number of training examples = 34799\n",
      "Number of testing examples = 12630\n",
      "Image data shape = (32, 32, 3)\n",
      "Number of classes = 43\n"
     ]
    }
   ],
   "source": [
    "### Replace each question mark with the appropriate value. \n",
    "### Use python, pandas or numpy methods rather than hard coding the results\n",
    "\n",
    "# TODO: Number of training examples\n",
    "n_train = X_train.shape[0]\n",
    "\n",
    "# TODO: Number of validation examples\n",
    "n_validation = X_valid.shape[0]\n",
    "\n",
    "# TODO: Number of testing examples.\n",
    "n_test = X_test.shape[0]\n",
    "\n",
    "# TODO: What's the shape of an traffic sign image?\n",
    "image_shape = X_train.shape[1:]\n",
    "\n",
    "# TODO: How many unique classes/labels there are in the dataset.\n",
    "n_classes = np.unique(y_train).size\n",
    "\n",
    "print(\"Number of training examples =\", n_train)\n",
    "print(\"Number of testing examples =\", n_test)\n",
    "print(\"Image data shape =\", image_shape)\n",
    "print(\"Number of classes =\", n_classes)"
   ]
  },
  {
   "cell_type": "markdown",
   "metadata": {},
   "source": [
    "### Include an exploratory visualization of the dataset"
   ]
  },
  {
   "cell_type": "markdown",
   "metadata": {},
   "source": [
    "Visualize the German Traffic Signs Dataset using the pickled file(s). This is open ended, suggestions include: plotting traffic sign images, plotting the count of each sign, etc. \n",
    "\n",
    "The [Matplotlib](http://matplotlib.org/) [examples](http://matplotlib.org/examples/index.html) and [gallery](http://matplotlib.org/gallery.html) pages are a great resource for doing visualizations in Python.\n",
    "\n",
    "**NOTE:** It's recommended you start with something simple first. If you wish to do more, come back to it after you've completed the rest of the sections. It can be interesting to look at the distribution of classes in the training, validation and test set. Is the distribution the same? Are there more examples of some classes than others?"
   ]
  },
  {
   "cell_type": "code",
   "execution_count": 5,
   "metadata": {
    "collapsed": true
   },
   "outputs": [],
   "source": [
    "### Data exploration visualization code goes here.\n",
    "### Feel free to use as many code cells as needed.\n",
    "import matplotlib.pyplot as plt\n",
    "import random\n",
    "# Visualizations will be shown in the notebook.\n",
    "%matplotlib inline\n"
   ]
  },
  {
   "cell_type": "code",
   "execution_count": 6,
   "metadata": {},
   "outputs": [
    {
     "data": {
      "image/png": "[encoded data removed]",
      "text/plain": [
       "<matplotlib.figure.Figure at 0x7f3430073e10>"
      ]
     },
     "metadata": {},
     "output_type": "display_data"
    },
    {
     "data": {
      "image/png": "[encoded data removed]",
      "text/plain": [
       "<matplotlib.figure.Figure at 0x7f3434815358>"
      ]
     },
     "metadata": {},
     "output_type": "display_data"
    },
    {
     "data": {
      "image/png": "[encoded data removed]",
      "text/plain": [
       "<matplotlib.figure.Figure at 0x7f340e49a4a8>"
      ]
     },
     "metadata": {},
     "output_type": "display_data"
    },
    {
     "data": {
      "image/png": "[encoded data removed]",
      "text/plain": [
       "<matplotlib.figure.Figure at 0x7f340e416b38>"
      ]
     },
     "metadata": {},
     "output_type": "display_data"
    },
    {
     "data": {
      "image/png": "[encoded data removed]",
      "text/plain": [
       "<matplotlib.figure.Figure at 0x7f340e37e710>"
      ]
     },
     "metadata": {},
     "output_type": "display_data"
    },
    {
     "data": {
      "image/png": "[encoded data removed]",
      "text/plain": [
       "<matplotlib.figure.Figure at 0x7f340bdbe4e0>"
      ]
     },
     "metadata": {},
     "output_type": "display_data"
    },
    {
     "data": {
      "image/png": "[encoded data removed]",
      "text/plain": [
       "<matplotlib.figure.Figure at 0x7f340bda4ef0>"
      ]
     },
     "metadata": {},
     "output_type": "display_data"
    }
   ],
   "source": [
    "random_class = 40\n",
    "def show_class_images(y_class, num_images=1):\n",
    "    class_images = X_train[y_train==y_class]\n",
    "    idx = np.random.randint(class_images.shape[0], size=num_images)\n",
    "    class_sample = class_images[idx]\n",
    "    \n",
    "    plt.figure()\n",
    "    plt.imshow(class_sample[1])\n",
    "\n",
    "    plt.figure()\n",
    "    plt.imshow(class_sample[2])\n",
    "    for image in class_sample:\n",
    "        plt.figure()\n",
    "        plt.imshow(image)\n",
    "\n",
    "show_class_images(40, 5)"
   ]
  },
  {
   "cell_type": "code",
   "execution_count": 7,
   "metadata": {},
   "outputs": [
    {
     "data": {
      "text/plain": [
       "<Container object of 43 artists>"
      ]
     },
     "execution_count": 7,
     "metadata": {},
     "output_type": "execute_result"
    },
    {
     "data": {
      "image/png": "[encoded data removed]",
      "text/plain": [
       "<matplotlib.figure.Figure at 0x7f340e580b00>"
      ]
     },
     "metadata": {},
     "output_type": "display_data"
    }
   ],
   "source": [
    "y_unique, y_counts = np.unique(y_train, return_counts=True)\n",
    "# plt.hist(y_counts, normed=True, bins=y_unique.size)\n",
    "plt.barh(y_unique, y_counts)"
   ]
  },
  {
   "cell_type": "markdown",
   "metadata": {},
   "source": [
    "----\n",
    "\n",
    "## Step 2: Design and Test a Model Architecture\n",
    "\n",
    "Design and implement a deep learning model that learns to recognize traffic signs. Train and test your model on the [German Traffic Sign Dataset](http://benchmark.ini.rub.de/?section=gtsrb&subsection=dataset).\n",
    "\n",
    "The LeNet-5 implementation shown in the [classroom](https://classroom.udacity.com/nanodegrees/nd013/parts/fbf77062-5703-404e-b60c-95b78b2f3f9e/modules/6df7ae49-c61c-4bb2-a23e-6527e69209ec/lessons/601ae704-1035-4287-8b11-e2c2716217ad/concepts/d4aca031-508f-4e0b-b493-e7b706120f81) at the end of the CNN lesson is a solid starting point. You'll have to change the number of classes and possibly the preprocessing, but aside from that it's plug and play! \n",
    "\n",
    "With the LeNet-5 solution from the lecture, you should expect a validation set accuracy of about 0.89. To meet specifications, the validation set accuracy will need to be at least 0.93. It is possible to get an even higher accuracy, but 0.93 is the minimum for a successful project submission. \n",
    "\n",
    "There are various aspects to consider when thinking about this problem:\n",
    "\n",
    "- Neural network architecture (is the network over or underfitting?)\n",
    "- Play around preprocessing techniques (normalization, rgb to grayscale, etc)\n",
    "- Number of examples per label (some have more than others).\n",
    "- Generate fake data.\n",
    "\n",
    "Here is an example of a [published baseline model on this problem](http://yann.lecun.com/exdb/publis/pdf/sermanet-ijcnn-11.pdf). It's not required to be familiar with the approach used in the paper but, it's good practice to try to read papers like these."
   ]
  },
  {
   "cell_type": "markdown",
   "metadata": {},
   "source": [
    "### Pre-process the Data Set (normalization, grayscale, etc.)"
   ]
  },
  {
   "cell_type": "markdown",
   "metadata": {},
   "source": [
    "Minimally, the image data should be normalized so that the data has mean zero and equal variance. For image data, `(pixel - 128)/ 128` is a quick way to approximately normalize the data and can be used in this project. \n",
    "\n",
    "Other pre-processing steps are optional. You can try different techniques to see if it improves performance. \n",
    "\n",
    "Use the code cell (or multiple code cells, if necessary) to implement the first step of your project."
   ]
  },
  {
   "cell_type": "code",
   "execution_count": 8,
   "metadata": {},
   "outputs": [
    {
     "data": {
      "text/plain": [
       "-0.65717315673828125"
      ]
     },
     "execution_count": 8,
     "metadata": {},
     "output_type": "execute_result"
    }
   ],
   "source": [
    "x_subset = X_train[0]\n",
    "# np.mean(x_subset)\n",
    "np.mean(x_subset.astype(np.float32) - 128) / 128\n",
    "# np.mean(x_subset - 128)\n",
    "# np.mean((x_subset - 128) / 128)"
   ]
  },
  {
   "cell_type": "code",
   "execution_count": 9,
   "metadata": {},
   "outputs": [
    {
     "name": "stdout",
     "output_type": "stream",
     "text": [
      "Mean:  -0.354081\n",
      "Mean:  -0.347216\n",
      "Mean:  -0.358216\n"
     ]
    }
   ],
   "source": [
    "### Preprocess the data here. It is required to normalize the data. Other preprocessing steps could include \n",
    "### converting to grayscale, etc.\n",
    "### Feel free to use as many code cells as needed.\n",
    "def normalize_images(images):\n",
    "    image_norm = (images.astype(np.float32) - 128) / 128\n",
    "    print('Mean: ', np.mean(image_norm))\n",
    "    return image_norm\n",
    "\n",
    "X_train_norm = normalize_images(X_train)\n",
    "X_valid_norm = normalize_images(X_valid)\n",
    "X_test_norm = normalize_images(X_test)"
   ]
  },
  {
   "cell_type": "markdown",
   "metadata": {},
   "source": [
    "### Model Architecture"
   ]
  },
  {
   "cell_type": "code",
   "execution_count": 10,
   "metadata": {
    "collapsed": true
   },
   "outputs": [],
   "source": [
    "import tensorflow as tf\n",
    "from sklearn.utils import shuffle"
   ]
  },
  {
   "cell_type": "code",
   "execution_count": 11,
   "metadata": {
    "collapsed": true
   },
   "outputs": [],
   "source": [
    "sess = tf.Session(config=tf.ConfigProto(log_device_placement=True))"
   ]
  },
  {
   "cell_type": "markdown",
   "metadata": {},
   "source": [
    "### Initialize Variables"
   ]
  },
  {
   "cell_type": "code",
   "execution_count": 12,
   "metadata": {
    "collapsed": true
   },
   "outputs": [],
   "source": [
    "tf.reset_default_graph()\n",
    "x = tf.placeholder(shape=(None,)+image_shape, dtype=tf.float32, name='x')\n",
    "y = tf.placeholder(shape=(None), dtype=tf.int32, name='y')\n",
    "y_hot = tf.one_hot(y, n_classes, name='y_hot')\n",
    "keep_prob = tf.placeholder(tf.float32, name='keep_prob')\n",
    "\n",
    "\n",
    "num_examples = len(X_train)\n",
    "BATCH_SIZE = 256\n",
    "\n",
    "global_step = tf.Variable(0, name='global_step', trainable=False)\n",
    "# learning_rate = tf.placeholder(tf.float32, shape=[])\n",
    "learning_rate_start = 0.001\n",
    "learning_rate = tf.train.exponential_decay(learning_rate_start, global_step, int(num_examples/BATCH_SIZE)*3, .95, staircase=True, name='exponential_learning_rate')\n",
    "\n",
    "# Initial size\n",
    "img_w, img_h, img_d = image_shape\n",
    "# 32 x 32 x 3\n"
   ]
  },
  {
   "cell_type": "code",
   "execution_count": 13,
   "metadata": {
    "collapsed": true
   },
   "outputs": [],
   "source": [
    "def input_summaries(x, y, name):\n",
    "    with tf.name_scope('input_summary'):\n",
    "        with tf.name_scope(name):\n",
    "            mean = tf.reduce_mean(x)\n",
    "#             mean, var = tf.nn.moments(x, axes=[0])\n",
    "            stddev = tf.sqrt(tf.reduce_mean(tf.square(x - mean)))\n",
    "            tf.summary.scalar('mean', mean)\n",
    "            tf.summary.scalar('stddev', stddev)\n",
    "            tf.summary.histogram('y_histogram', y)\n",
    "\n",
    "input_summaries(x, y, 'data_train')"
   ]
  },
  {
   "cell_type": "markdown",
   "metadata": {},
   "source": [
    "### VGG16"
   ]
  },
  {
   "cell_type": "code",
   "execution_count": 14,
   "metadata": {
    "collapsed": true
   },
   "outputs": [],
   "source": [
    "def conv_layer(input_layer, layer_name, k_depth, filter_size=3, stride=1, padding='SAME'):\n",
    "    with tf.variable_scope(layer_name):\n",
    "        input_depth = input_layer.shape[-1]\n",
    "        conv_strides = (1, stride, stride, 1)\n",
    "        filter_shape = (filter_size, filter_size, input_depth, k_depth)\n",
    "        \n",
    "        conv_w = tf.get_variable('W', shape=filter_shape, initializer=tf.contrib.layers.xavier_initializer_conv2d())\n",
    "        conv_b = tf.Variable(tf.zeros(k_depth), name='B')\n",
    "        with tf.variable_scope('Z'):\n",
    "            conv = tf.nn.conv2d(input=input_layer, filter=conv_w, strides=conv_strides, padding=padding) + conv_b\n",
    "        conv_relu = tf.nn.relu(conv, 'A')\n",
    "        \n",
    "        return conv_relu\n",
    "    \n",
    "def conv_block(input_layer, block_name, k_depth):\n",
    "    with tf.variable_scope(block_name):\n",
    "        conv1 = conv_layer(input_layer, layer_name='Conv1', k_depth=k_depth)\n",
    "        batch1 = tf.layers.batch_normalization(conv1)\n",
    "        conv2 = conv_layer(batch1, layer_name='Conv2', k_depth=k_depth)\n",
    "        pool = tf.nn.max_pool(conv2, ksize=(1, 2, 2, 1), strides=(1, 2, 2, 1), padding='VALID', name='Pool')\n",
    "    return pool\n",
    "    \n",
    "\n",
    "def VGG16(input_x, keep_prob):\n",
    "    # 32 x 32 x 3\n",
    "    \n",
    "    # Convolution1 Layer 1\n",
    "    # 32 x 32 x 64\n",
    "    conv_block1 = conv_block(input_x, block_name='ConvBlock1', k_depth=32)\n",
    "    \n",
    "    batch_norm_conv1 = tf.layers.batch_normalization(conv_block1, name='BatchNormConvBlock1')\n",
    "\n",
    "    # 16 x 16 x 128\n",
    "    conv_block2 = conv_block(batch_norm_conv1, block_name='ConvBlock2', k_depth=64)\n",
    "    \n",
    "    batch_norm_conv2 = tf.layers.batch_normalization(conv_block2, name='BatchNormConvBlock2')\n",
    "    \n",
    "\n",
    "    # Dense Layers\n",
    "    # 5 x 5 x 16 = 400\n",
    "    flatten = tf.contrib.layers.flatten(batch_norm_conv2, scope=\"Flatten\")\n",
    "\n",
    "    batch_norm_flatten = tf.layers.batch_normalization(flatten, name='BatchNormFlatten')\n",
    "    \n",
    "    # 400 x 120\n",
    "    dense1 = tf.layers.dense(batch_norm_flatten, units=256, activation=tf.nn.relu, name=\"Dense1\")\n",
    "    \n",
    "    batch_norm_dense1 = tf.layers.batch_normalization(dense1, name='BatchNormDense1')\n",
    "\n",
    "    # 120 x 84\n",
    "    dense2 = tf.layers.dense(batch_norm_dense1, units=512, activation=tf.nn.relu, name=\"Dense2\")\n",
    "    \n",
    "    batch_norm_dense2 = tf.layers.batch_normalization(dense2, name='BatchNormDense2')\n",
    "    \n",
    "    with tf.name_scope('dropout'):\n",
    "        dropout1 = tf.nn.dropout(batch_norm_dense2, keep_prob)\n",
    "        tf.summary.scalar('dropout_keep_probability', keep_prob)\n",
    "\n",
    "    # 84 x 43\n",
    "    dense3 = tf.layers.dense(dropout1, units=n_classes, name=\"Output\")\n",
    "    \n",
    "    return dense3"
   ]
  },
  {
   "cell_type": "markdown",
   "metadata": {},
   "source": [
    "### Train, Validate and Test the Model"
   ]
  },
  {
   "cell_type": "markdown",
   "metadata": {},
   "source": [
    "A validation set can be used to assess how well the model is performing. A low accuracy on the training and validation\n",
    "sets imply underfitting. A high accuracy on the training set but low accuracy on the validation set implies overfitting."
   ]
  },
  {
   "cell_type": "code",
   "execution_count": 15,
   "metadata": {
    "collapsed": true
   },
   "outputs": [],
   "source": [
    "### Train your model here.\n",
    "### Calculate and report the accuracy on the training and validation set.\n",
    "### Once a final model architecture is selected, \n",
    "### the accuracy on the test set should be calculated and reported as well.\n",
    "### Feel free to use as many code cells as needed.\n",
    "\n",
    "logits = VGG16(x, keep_prob)\n",
    "with tf.name_scope('cross_entropy'):\n",
    "    cross_entropy = tf.nn.softmax_cross_entropy_with_logits(labels=y_hot, logits=logits)\n",
    "    with tf.name_scope('total'):\n",
    "        loss = tf.reduce_mean(cross_entropy)\n",
    "tf.summary.scalar('cross_entropy_loss', loss)\n",
    "\n",
    "with tf.name_scope('training'):\n",
    "    optimizer = tf.train.AdamOptimizer(learning_rate=learning_rate)\n",
    "    tf.summary.scalar('learning_rate', learning_rate)\n",
    "    training_operation = optimizer.minimize(loss, global_step=global_step)"
   ]
  },
  {
   "cell_type": "code",
   "execution_count": 21,
   "metadata": {
    "collapsed": true
   },
   "outputs": [],
   "source": [
    "with tf.name_scope('accuracy'):\n",
    "    predictions = tf.equal(tf.argmax(logits, axis=1), tf.argmax(y_hot, 1))\n",
    "    accuracy_operation = tf.reduce_mean(tf.cast(predictions, tf.float32))\n",
    "    tf.summary.scalar('accuracy', accuracy)\n",
    "\n",
    "\n",
    "def evaluate(x_data, y_data):\n",
    "    num_examples = len(x_data)\n",
    "    total_accuracy = 0\n",
    "    sess = tf.get_default_session()\n",
    "    for offset in range(0, num_examples, BATCH_SIZE):\n",
    "        end = offset+BATCH_SIZE\n",
    "        batch_x, batch_y = x_data[offset:end], y_data[offset:end]\n",
    "        feed_dict = {x: batch_x, y: batch_y, keep_prob: 1};\n",
    "        accuracy = sess.run(accuracy_operation, feed_dict=feed_dict)\n",
    "        total_accuracy += accuracy * len(batch_x)\n",
    "    avg_accuracy = total_accuracy / num_examples\n",
    "#     tf.summary.scalar('avg_accuracy', avg_accuracy)\n",
    "    return avg_accuracy\n",
    "    "
   ]
  },
  {
   "cell_type": "markdown",
   "metadata": {},
   "source": [
    "## Running the Model"
   ]
  },
  {
   "cell_type": "code",
   "execution_count": 17,
   "metadata": {
    "collapsed": true
   },
   "outputs": [],
   "source": [
    "num_epochs = 10"
   ]
  },
  {
   "cell_type": "code",
   "execution_count": 26,
   "metadata": {},
   "outputs": [],
   "source": [
    "validation_accuracy = tf.placeholder(shape=[], dtype=tf.float32)\n",
    "training_accuracy = tf.placeholder(shape=[], dtype=tf.float32)\n",
    "acc_summ_valid = tf.summary.scalar('validation_accuracy', validation_accuracy)\n",
    "acc_summ_train = tf.summary.scalar('training_accuracy', training_accuracy)\n",
    "acc_merged = tf.summary.merge([acc_summ_valid, acc_summ_train])"
   ]
  },
  {
   "cell_type": "code",
   "execution_count": 23,
   "metadata": {},
   "outputs": [
    {
     "name": "stdout",
     "output_type": "stream",
     "text": [
      "Training...\n",
      "EPOCH: 1\n",
      "Validation accuracy: 0.868253968524\n",
      "Training accuracy: 0.933762464531\n",
      "EPOCH: 2\n",
      "Validation accuracy: 0.942857143127\n",
      "Training accuracy: 0.99255725762\n",
      "EPOCH: 3\n",
      "Validation accuracy: 0.95306122476\n",
      "Training accuracy: 0.99775855628\n",
      "EPOCH: 4\n",
      "Validation accuracy: 0.954421768978\n",
      "Training accuracy: 0.998045921088\n",
      "EPOCH: 5\n",
      "Validation accuracy: 0.953741496599\n",
      "Training accuracy: 0.998103393776\n",
      "EPOCH: 6\n",
      "Validation accuracy: 0.96485260798\n",
      "Training accuracy: 0.999683898963\n",
      "EPOCH: 7\n",
      "Validation accuracy: 0.963945578502\n",
      "Training accuracy: 0.999827581252\n",
      "EPOCH: 8\n",
      "Validation accuracy: 0.960770975327\n",
      "Training accuracy: 0.999827581252\n",
      "EPOCH: 9\n",
      "Validation accuracy: 0.965986394828\n",
      "Training accuracy: 0.999885054168\n",
      "EPOCH: 10\n",
      "Validation accuracy: 0.949886621315\n",
      "Training accuracy: 0.997701083364\n",
      "Model saved to path: data/tmp/model.ckpt\n"
     ]
    }
   ],
   "source": [
    "# Summary stuff\n",
    "summaries_merged = tf.summary.merge_all()\n",
    "train_writer = tf.summary.FileWriter(summary_dir+'train')\n",
    "valid_writer = tf.summary.FileWriter(summary_dir+'validation')\n",
    "init = tf.global_variables_initializer()\n",
    "\n",
    "saver = tf.train.Saver()\n",
    "with tf.Session() as sess:\n",
    "    sess.run(init)\n",
    "    train_writer.add_graph(sess.graph)\n",
    "    num_examples = len(X_train)\n",
    "    \n",
    "    print('Training...')\n",
    "    for epoch in range(num_epochs):\n",
    "        shuffle_x, shuffle_y = shuffle(X_train_norm, y_train)\n",
    "        \n",
    "        for offset in range(0, num_examples, BATCH_SIZE):\n",
    "            end = offset+BATCH_SIZE\n",
    "            batch_x, batch_y = shuffle_x[offset:end], shuffle_y[offset:end]\n",
    "            summary, acc = sess.run([summaries_merged, training_operation], feed_dict={x: batch_x, y: batch_y, keep_prob: 0.5})\n",
    "            train_writer.add_summary(summary, global_step.eval())\n",
    "            \n",
    "        va = evaluate(X_valid_norm, y_valid)\n",
    "        ta = evaluate(X_train_norm, y_train)\n",
    "        acc_summ = sess.run(acc_merged, feed_dict={validation_accuration=va, training_accuracy=ta})\n",
    "        valid_writer.add_summary(acc_summ, epoch)\n",
    "        print('EPOCH:', epoch+1)\n",
    "        print('Validation accuracy:', validation_accuracy)\n",
    "        print('Training accuracy:', training_accuracy)\n",
    "        \n",
    "    save_path = saver.save(sess, data_dir+'tmp/model.ckpt')\n",
    "    print('Model saved to path:', save_path)"
   ]
  },
  {
   "cell_type": "markdown",
   "metadata": {},
   "source": [
    "### More Epochs"
   ]
  },
  {
   "cell_type": "code",
   "execution_count": 20,
   "metadata": {},
   "outputs": [
    {
     "name": "stdout",
     "output_type": "stream",
     "text": [
      "INFO:tensorflow:Restoring parameters from data/tmp/model.ckpt\n",
      "Model restored\n",
      "Training...\n",
      "EPOCH: 1\n",
      "Validation accuracy: 0.967573696145\n",
      "EPOCH: 2\n",
      "Validation accuracy: 0.963718820862\n",
      "EPOCH: 3\n",
      "Validation accuracy: 0.957823129252\n",
      "EPOCH: 4\n",
      "Validation accuracy: 0.967800453515\n",
      "EPOCH: 5\n",
      "Validation accuracy: 0.965986394558\n",
      "EPOCH: 6\n",
      "Validation accuracy: 0.966213151927\n",
      "EPOCH: 7\n",
      "Validation accuracy: 0.966666666667\n",
      "EPOCH: 8\n",
      "Validation accuracy: 0.963945578231\n",
      "EPOCH: 9\n",
      "Validation accuracy: 0.9766439912\n",
      "EPOCH: 10\n",
      "Validation accuracy: 0.97687074857\n"
     ]
    }
   ],
   "source": [
    "with tf.Session() as sess:\n",
    "    saver.restore(sess, data_dir+\"tmp/model.ckpt\")\n",
    "    print('Model restored')\n",
    "    num_examples = len(X_train)\n",
    "    \n",
    "    print('Training...')\n",
    "    for epoch in range(num_epochs):\n",
    "        shuffle_x, shuffle_y = shuffle(X_train_norm, y_train)\n",
    "        \n",
    "        for offset in range(0, num_examples, BATCH_SIZE):\n",
    "            end = offset+BATCH_SIZE\n",
    "            batch_x, batch_y = shuffle_x[offset:end], shuffle_y[offset:end]\n",
    "            feed_dict={x: batch_x, y: batch_y, keep_prob: 0.5}\n",
    "            summary, acc = sess.run([summaries_merged, training_operation], feed_dict=feed_dict)\n",
    "            train_writer.add_summary(summary, global_step.eval())\n",
    "            \n",
    "        validation_accuracy = evaluate(X_valid_norm, y_valid)\n",
    "        print('EPOCH:', epoch+1)\n",
    "        print('Validation accuracy:', validation_accuracy)\n",
    "    save_path = saver.save(sess, data_dir+'tmp/model2.ckpt')"
   ]
  },
  {
   "cell_type": "code",
   "execution_count": null,
   "metadata": {
    "collapsed": true
   },
   "outputs": [],
   "source": [
    "### Train your model here.\n",
    "### Calculate and report the accuracy on the training and validation set.\n",
    "### Once a final model architecture is selected, \n",
    "### the accuracy on the test set should be calculated and reported as well.\n",
    "### Feel free to use as many code cells as needed.\n",
    "\n",
    "# tf.reset_default_graph()\n",
    "\n",
    "# def load_model(x, y_hot)\n",
    "#     logits = VGG16(x)\n",
    "#     # Cross entropy\n",
    "#     with tf.name_scope('cross_entropy'):\n",
    "#         cross_entropy = tf.nn.softmax_cross_entropy_with_logits(labels=y_hot, logits=logits)\n",
    "#         with tf.name_scope('total'):\n",
    "#             loss = tf.reduce_mean(cross_entropy)\n",
    "#     tf.summary.scalar('cross_entropy_loss', loss)\n",
    "\n",
    "#     # Loss\n",
    "#     with tf.name_scope('training'):\n",
    "#         optimizer = tf.train.AdamOptimizer()\n",
    "#         global_step = tf.Variable(0, name='global_step', trainable=False)\n",
    "#         training_operation = optimizer.minimize(loss, global_step=global_step)\n",
    "        \n",
    "    "
   ]
  },
  {
   "cell_type": "markdown",
   "metadata": {},
   "source": [
    "---\n",
    "\n",
    "## Step 3: Test a Model on New Images\n",
    "\n",
    "To give yourself more insight into how your model is working, download at least five pictures of German traffic signs from the web and use your model to predict the traffic sign type.\n",
    "\n",
    "You may find `signnames.csv` useful as it contains mappings from the class id (integer) to the actual sign name."
   ]
  },
  {
   "cell_type": "markdown",
   "metadata": {},
   "source": [
    "### Load and Output the Images"
   ]
  },
  {
   "cell_type": "code",
   "execution_count": null,
   "metadata": {
    "collapsed": true
   },
   "outputs": [],
   "source": [
    "### Load the images and plot them here.\n",
    "### Feel free to use as many code cells as needed.\n"
   ]
  },
  {
   "cell_type": "markdown",
   "metadata": {},
   "source": [
    "### Predict the Sign Type for Each Image"
   ]
  },
  {
   "cell_type": "code",
   "execution_count": null,
   "metadata": {
    "collapsed": true
   },
   "outputs": [],
   "source": [
    "### Run the predictions here and use the model to output the prediction for each image.\n",
    "### Make sure to pre-process the images with the same pre-processing pipeline used earlier.\n",
    "### Feel free to use as many code cells as needed."
   ]
  },
  {
   "cell_type": "markdown",
   "metadata": {},
   "source": [
    "### Analyze Performance"
   ]
  },
  {
   "cell_type": "code",
   "execution_count": null,
   "metadata": {
    "collapsed": true
   },
   "outputs": [],
   "source": [
    "### Calculate the accuracy for these 5 new images. \n",
    "### For example, if the model predicted 1 out of 5 signs correctly, it's 20% accurate on these new images."
   ]
  },
  {
   "cell_type": "markdown",
   "metadata": {},
   "source": [
    "### Output Top 5 Softmax Probabilities For Each Image Found on the Web"
   ]
  },
  {
   "cell_type": "markdown",
   "metadata": {},
   "source": [
    "For each of the new images, print out the model's softmax probabilities to show the **certainty** of the model's predictions (limit the output to the top 5 probabilities for each image). [`tf.nn.top_k`](https://www.tensorflow.org/versions/r0.12/api_docs/python/nn.html#top_k) could prove helpful here. \n",
    "\n",
    "The example below demonstrates how tf.nn.top_k can be used to find the top k predictions for each image.\n",
    "\n",
    "`tf.nn.top_k` will return the values and indices (class ids) of the top k predictions. So if k=3, for each sign, it'll return the 3 largest probabilities (out of a possible 43) and the correspoding class ids.\n",
    "\n",
    "Take this numpy array as an example. The values in the array represent predictions. The array contains softmax probabilities for five candidate images with six possible classes. `tf.nn.top_k` is used to choose the three classes with the highest probability:\n",
    "\n",
    "```\n",
    "# (5, 6) array\n",
    "a = np.array([[ 0.24879643,  0.07032244,  0.12641572,  0.34763842,  0.07893497,\n",
    "         0.12789202],\n",
    "       [ 0.28086119,  0.27569815,  0.08594638,  0.0178669 ,  0.18063401,\n",
    "         0.15899337],\n",
    "       [ 0.26076848,  0.23664738,  0.08020603,  0.07001922,  0.1134371 ,\n",
    "         0.23892179],\n",
    "       [ 0.11943333,  0.29198961,  0.02605103,  0.26234032,  0.1351348 ,\n",
    "         0.16505091],\n",
    "       [ 0.09561176,  0.34396535,  0.0643941 ,  0.16240774,  0.24206137,\n",
    "         0.09155967]])\n",
    "```\n",
    "\n",
    "Running it through `sess.run(tf.nn.top_k(tf.constant(a), k=3))` produces:\n",
    "\n",
    "```\n",
    "TopKV2(values=array([[ 0.34763842,  0.24879643,  0.12789202],\n",
    "       [ 0.28086119,  0.27569815,  0.18063401],\n",
    "       [ 0.26076848,  0.23892179,  0.23664738],\n",
    "       [ 0.29198961,  0.26234032,  0.16505091],\n",
    "       [ 0.34396535,  0.24206137,  0.16240774]]), indices=array([[3, 0, 5],\n",
    "       [0, 1, 4],\n",
    "       [0, 5, 1],\n",
    "       [1, 3, 5],\n",
    "       [1, 4, 3]], dtype=int32))\n",
    "```\n",
    "\n",
    "Looking just at the first row we get `[ 0.34763842,  0.24879643,  0.12789202]`, you can confirm these are the 3 largest probabilities in `a`. You'll also notice `[3, 0, 5]` are the corresponding indices."
   ]
  },
  {
   "cell_type": "code",
   "execution_count": null,
   "metadata": {
    "collapsed": true
   },
   "outputs": [],
   "source": [
    "### Print out the top five softmax probabilities for the predictions on the German traffic sign images found on the web. \n",
    "### Feel free to use as many code cells as needed."
   ]
  },
  {
   "cell_type": "markdown",
   "metadata": {},
   "source": [
    "### Project Writeup\n",
    "\n",
    "Once you have completed the code implementation, document your results in a project writeup using this [template](https://github.com/udacity/CarND-Traffic-Sign-Classifier-Project/blob/master/writeup_template.md) as a guide. The writeup can be in a markdown or pdf file. "
   ]
  },
  {
   "cell_type": "markdown",
   "metadata": {},
   "source": [
    "> **Note**: Once you have completed all of the code implementations and successfully answered each question above, you may finalize your work by exporting the iPython Notebook as an HTML document. You can do this by using the menu above and navigating to  \\n\",\n",
    "    \"**File -> Download as -> HTML (.html)**. Include the finished document along with this notebook as your submission."
   ]
  },
  {
   "cell_type": "markdown",
   "metadata": {},
   "source": [
    "---\n",
    "\n",
    "## Step 4 (Optional): Visualize the Neural Network's State with Test Images\n",
    "\n",
    " This Section is not required to complete but acts as an additional excersise for understaning the output of a neural network's weights. While neural networks can be a great learning device they are often referred to as a black box. We can understand what the weights of a neural network look like better by plotting their feature maps. After successfully training your neural network you can see what it's feature maps look like by plotting the output of the network's weight layers in response to a test stimuli image. From these plotted feature maps, it's possible to see what characteristics of an image the network finds interesting. For a sign, maybe the inner network feature maps react with high activation to the sign's boundary outline or to the contrast in the sign's painted symbol.\n",
    "\n",
    " Provided for you below is the function code that allows you to get the visualization output of any tensorflow weight layer you want. The inputs to the function should be a stimuli image, one used during training or a new one you provided, and then the tensorflow variable name that represents the layer's state during the training process, for instance if you wanted to see what the [LeNet lab's](https://classroom.udacity.com/nanodegrees/nd013/parts/fbf77062-5703-404e-b60c-95b78b2f3f9e/modules/6df7ae49-c61c-4bb2-a23e-6527e69209ec/lessons/601ae704-1035-4287-8b11-e2c2716217ad/concepts/d4aca031-508f-4e0b-b493-e7b706120f81) feature maps looked like for it's second convolutional layer you could enter conv2 as the tf_activation variable.\n",
    "\n",
    "For an example of what feature map outputs look like, check out NVIDIA's results in their paper [End-to-End Deep Learning for Self-Driving Cars](https://devblogs.nvidia.com/parallelforall/deep-learning-self-driving-cars/) in the section Visualization of internal CNN State. NVIDIA was able to show that their network's inner weights had high activations to road boundary lines by comparing feature maps from an image with a clear path to one without. Try experimenting with a similar test to show that your trained network's weights are looking for interesting features, whether it's looking at differences in feature maps from images with or without a sign, or even what feature maps look like in a trained network vs a completely untrained one on the same sign image.\n",
    "\n",
    "<figure>\n",
    " <img src=\"visualize_cnn.png\" width=\"380\" alt=\"Combined Image\" />\n",
    " <figcaption>\n",
    " <p></p> \n",
    " <p style=\"text-align: center;\"> Your output should look something like this (above)</p> \n",
    " </figcaption>\n",
    "</figure>\n",
    " <p></p> \n"
   ]
  },
  {
   "cell_type": "code",
   "execution_count": null,
   "metadata": {
    "collapsed": true
   },
   "outputs": [],
   "source": [
    "### Visualize your network's feature maps here.\n",
    "### Feel free to use as many code cells as needed.\n",
    "\n",
    "# image_input: the test image being fed into the network to produce the feature maps\n",
    "# tf_activation: should be a tf variable name used during your training procedure that represents the calculated state of a specific weight layer\n",
    "# activation_min/max: can be used to view the activation contrast in more detail, by default matplot sets min and max to the actual min and max values of the output\n",
    "# plt_num: used to plot out multiple different weight feature map sets on the same block, just extend the plt number for each new feature map entry\n",
    "\n",
    "def outputFeatureMap(image_input, tf_activation, activation_min=-1, activation_max=-1 ,plt_num=1):\n",
    "    # Here make sure to preprocess your image_input in a way your network expects\n",
    "    # with size, normalization, ect if needed\n",
    "    # image_input =\n",
    "    # Note: x should be the same name as your network's tensorflow data placeholder variable\n",
    "    # If you get an error tf_activation is not defined it may be having trouble accessing the variable from inside a function\n",
    "    activation = tf_activation.eval(session=sess,feed_dict={x : image_input})\n",
    "    featuremaps = activation.shape[3]\n",
    "    plt.figure(plt_num, figsize=(15,15))\n",
    "    for featuremap in range(featuremaps):\n",
    "        plt.subplot(6,8, featuremap+1) # sets the number of feature maps to show on each row and column\n",
    "        plt.title('FeatureMap ' + str(featuremap)) # displays the feature map number\n",
    "        if activation_min != -1 & activation_max != -1:\n",
    "            plt.imshow(activation[0,:,:, featuremap], interpolation=\"nearest\", vmin =activation_min, vmax=activation_max, cmap=\"gray\")\n",
    "        elif activation_max != -1:\n",
    "            plt.imshow(activation[0,:,:, featuremap], interpolation=\"nearest\", vmax=activation_max, cmap=\"gray\")\n",
    "        elif activation_min !=-1:\n",
    "            plt.imshow(activation[0,:,:, featuremap], interpolation=\"nearest\", vmin=activation_min, cmap=\"gray\")\n",
    "        else:\n",
    "            plt.imshow(activation[0,:,:, featuremap], interpolation=\"nearest\", cmap=\"gray\")"
   ]
  }
 ],
 "metadata": {
  "anaconda-cloud": {},
  "kernelspec": {
   "display_name": "Python 3",
   "language": "python",
   "name": "python3"
  },
  "language_info": {
   "codemirror_mode": {
    "name": "ipython",
    "version": 3
   },
   "file_extension": ".py",
   "mimetype": "text/x-python",
   "name": "python",
   "nbconvert_exporter": "python",
   "pygments_lexer": "ipython3",
   "version": "3.6.1"
  }
 },
 "nbformat": 4,
 "nbformat_minor": 1
}
